{
  "nbformat": 4,
  "nbformat_minor": 0,
  "metadata": {
    "colab": {
      "name": "TF_Object_Detection_Config.ipynb",
      "provenance": [],
      "collapsed_sections": []
    },
    "kernelspec": {
      "name": "python3",
      "display_name": "Python 3"
    },
    "accelerator": "GPU"
  },
  "cells": [
    {
      "cell_type": "markdown",
      "metadata": {
        "id": "ZdTXeqVEXaUi",
        "colab_type": "text"
      },
      "source": [
        "## Check GPU\n",
        "\n",
        "---"
      ]
    },
    {
      "cell_type": "code",
      "metadata": {
        "id": "S8lr6XuEXfwp",
        "colab_type": "code",
        "colab": {}
      },
      "source": [
        "%tensorflow_version 2.x\n",
        "import tensorflow as tf\n",
        "device_name = tf.test.gpu_device_name()\n",
        "if device_name != '/device:GPU:0':\n",
        "  raise SystemError('GPU device not found')\n",
        "print('Found GPU at: {}'.format(device_name))"
      ],
      "execution_count": 0,
      "outputs": []
    },
    {
      "cell_type": "markdown",
      "metadata": {
        "id": "W2xUpGVQXnhx",
        "colab_type": "text"
      },
      "source": [
        "## Connect to the Google Drive and create TFConfig folder\n",
        "\n",
        "---\n",
        "\n"
      ]
    },
    {
      "cell_type": "code",
      "metadata": {
        "id": "tIVAgJ9eUDVp",
        "colab_type": "code",
        "colab": {}
      },
      "source": [
        "import os\n",
        "import pathlib\n",
        "from google.colab import drive\n",
        "\n",
        "drive.mount('/content/drive')\n",
        "\n",
        "%cd ~/content\n",
        "%cd drive/My Drive\n",
        "\n",
        "if not pathlib.Path('TFConfig').exists():\n",
        "  !mkdir \"TFConfig\"\n",
        "\n",
        "%cd TFConfig  "
      ],
      "execution_count": 0,
      "outputs": []
    },
    {
      "cell_type": "markdown",
      "metadata": {
        "id": "pkJ7q-W3Xuy5",
        "colab_type": "text"
      },
      "source": [
        "## Clone Git repo\n",
        "\n",
        "---\n",
        "\n"
      ]
    },
    {
      "cell_type": "code",
      "metadata": {
        "id": "ciImHDGgXyyh",
        "colab_type": "code",
        "colab": {}
      },
      "source": [
        "if \"models\" in pathlib.Path.cwd().parts:\n",
        "  while \"models\" in pathlib.Path.cwd().parts:\n",
        "    os.chdir('..')\n",
        "elif not pathlib.Path('models').exists():\n",
        "  !git clone --depth 1 https://github.com/tensorflow/models"
      ],
      "execution_count": 0,
      "outputs": []
    },
    {
      "cell_type": "markdown",
      "metadata": {
        "id": "9fTghSjZkCfw",
        "colab_type": "text"
      },
      "source": [
        "## Compiling\n",
        "\n",
        "---\n",
        "\n"
      ]
    },
    {
      "cell_type": "code",
      "metadata": {
        "id": "ucwc3Ez-Yytp",
        "colab_type": "code",
        "colab": {}
      },
      "source": [
        "%cd ~\n",
        "%cd /content\n",
        "%cd drive/My Drive/TFConfig/models/research\n",
        "!pwd\n",
        "!protoc object_detection/protos/*.proto --python_out=."
      ],
      "execution_count": 0,
      "outputs": []
    },
    {
      "cell_type": "markdown",
      "metadata": {
        "id": "P2I-jxKwHJXi",
        "colab_type": "text"
      },
      "source": [
        "## Install all Apis"
      ]
    },
    {
      "cell_type": "code",
      "metadata": {
        "id": "ZqlU3kJOHUNm",
        "colab_type": "code",
        "colab": {}
      },
      "source": [
        "%cd ~\n",
        "%cd /content\n",
        "%cd drive/My Drive/TFConfig/models/research\n",
        "!pip install ."
      ],
      "execution_count": 0,
      "outputs": []
    },
    {
      "cell_type": "markdown",
      "metadata": {
        "id": "-J_3e5VfM6Bo",
        "colab_type": "text"
      },
      "source": [
        "###Install tf-slim 1.1.0"
      ]
    },
    {
      "cell_type": "code",
      "metadata": {
        "id": "7jLBb3ZeM0lz",
        "colab_type": "code",
        "colab": {}
      },
      "source": [
        "!pip install --upgrade tf-slim"
      ],
      "execution_count": 0,
      "outputs": []
    },
    {
      "cell_type": "markdown",
      "metadata": {
        "id": "Yltt1sCAeBZv",
        "colab_type": "text"
      },
      "source": [
        "## Run script\n",
        "\n",
        "---\n",
        "\n"
      ]
    },
    {
      "cell_type": "markdown",
      "metadata": {
        "id": "GM9BJlhE3i76",
        "colab_type": "text"
      },
      "source": [
        "### Import required modules."
      ]
    },
    {
      "cell_type": "code",
      "metadata": {
        "id": "T_p-zALWMD5P",
        "colab_type": "code",
        "colab": {}
      },
      "source": [
        "import numpy as np\n",
        "import os\n",
        "import six.moves.urllib as urllib\n",
        "import sys\n",
        "import tarfile\n",
        "import tensorflow as tf\n",
        "import zipfile\n",
        "\n",
        "from collections import defaultdict\n",
        "from io import StringIO\n",
        "from matplotlib import pyplot as plt\n",
        "from PIL import Image\n",
        "from IPython.display import display"
      ],
      "execution_count": 0,
      "outputs": []
    },
    {
      "cell_type": "markdown",
      "metadata": {
        "id": "sxFK8FUR3y6M",
        "colab_type": "text"
      },
      "source": [
        "### Import object detection module and tensorflow patchs"
      ]
    },
    {
      "cell_type": "code",
      "metadata": {
        "id": "AEaX1eJ535BI",
        "colab_type": "code",
        "colab": {}
      },
      "source": [
        "from object_detection.utils import ops as utils_ops\n",
        "from object_detection.utils import label_map_util\n",
        "from object_detection.utils import visualization_utils as vis_util\n",
        "\n",
        "# patch tf1 into `utils.ops`\n",
        "utils_ops.tf = tf.compat.v1\n",
        "\n",
        "# Patch the location of gfile\n",
        "tf.gfile = tf.io.gfile"
      ],
      "execution_count": 0,
      "outputs": []
    },
    {
      "cell_type": "markdown",
      "metadata": {
        "id": "H8mmRhKc4Xv8",
        "colab_type": "text"
      },
      "source": [
        "### Define method for load the module"
      ]
    },
    {
      "cell_type": "code",
      "metadata": {
        "id": "CQaslAbJ4gR9",
        "colab_type": "code",
        "colab": {}
      },
      "source": [
        "def load_model(model_name):\n",
        "  base_url = 'http://download.tensorflow.org/models/object_detection/'\n",
        "  model_file = model_name + '.tar.gz'\n",
        "  model_dir = tf.keras.utils.get_file(\n",
        "    fname=model_name, \n",
        "    origin=base_url + model_file,\n",
        "    untar=True)\n",
        "\n",
        "  model_dir = pathlib.Path(model_dir)/\"saved_model\"\n",
        "\n",
        "  model = tf.saved_model.load(str(model_dir))\n",
        "  model = model.signatures['serving_default']\n",
        "\n",
        "  return model"
      ],
      "execution_count": 0,
      "outputs": []
    },
    {
      "cell_type": "markdown",
      "metadata": {
        "id": "RY5wt-7U6ct4",
        "colab_type": "text"
      },
      "source": [
        "### Defne method for run inference for single image"
      ]
    },
    {
      "cell_type": "code",
      "metadata": {
        "id": "RzvvkBJU6rwt",
        "colab_type": "code",
        "colab": {}
      },
      "source": [
        "def run_inference_for_single_image(model, image):\n",
        "  image = np.asarray(image)\n",
        "  # The input needs to be a tensor, convert it using `tf.convert_to_tensor`.\n",
        "  input_tensor = tf.convert_to_tensor(image)\n",
        "  # The model expects a batch of images, so add an axis with `tf.newaxis`.\n",
        "  input_tensor = input_tensor[tf.newaxis,...]\n",
        "\n",
        "  # Run inference\n",
        "  output_dict = model(input_tensor)\n",
        "\n",
        "  # All outputs are batches tensors.\n",
        "  # Convert to numpy arrays, and take index [0] to remove the batch dimension.\n",
        "  # We're only interested in the first num_detections.\n",
        "  num_detections = int(output_dict.pop('num_detections'))\n",
        "  output_dict = {key:value[0, :num_detections].numpy() \n",
        "                 for key,value in output_dict.items()}\n",
        "  output_dict['num_detections'] = num_detections\n",
        "\n",
        "  # detection_classes should be ints.\n",
        "  output_dict['detection_classes'] = output_dict['detection_classes'].astype(np.int64)\n",
        "   \n",
        "  # Handle models with masks:\n",
        "  if 'detection_masks' in output_dict:\n",
        "    # Reframe the the bbox mask to the image size.\n",
        "    detection_masks_reframed = utils_ops.reframe_box_masks_to_image_masks(\n",
        "              output_dict['detection_masks'], output_dict['detection_boxes'],\n",
        "               image.shape[0], image.shape[1])      \n",
        "    detection_masks_reframed = tf.cast(detection_masks_reframed > 0.5,\n",
        "                                       tf.uint8)\n",
        "    output_dict['detection_masks_reframed'] = detection_masks_reframed.numpy()\n",
        "    \n",
        "  return output_dict"
      ],
      "execution_count": 0,
      "outputs": []
    },
    {
      "cell_type": "markdown",
      "metadata": {
        "id": "LE3XS3RF7G6H",
        "colab_type": "text"
      },
      "source": [
        "### Define method for show inference in an image"
      ]
    },
    {
      "cell_type": "code",
      "metadata": {
        "id": "sP-S9Vzr7O6U",
        "colab_type": "code",
        "colab": {}
      },
      "source": [
        "def show_inference(model, image_path):\n",
        "  # the array based representation of the image will be used later in order to prepare the\n",
        "  # result image with boxes and labels on it.\n",
        "  image_np = np.array(Image.open(image_path))\n",
        "  # Actual detection.\n",
        "  output_dict = run_inference_for_single_image(model, image_np)\n",
        "  # Visualization of the results of a detection.\n",
        "  vis_util.visualize_boxes_and_labels_on_image_array(\n",
        "      image_np,\n",
        "      output_dict['detection_boxes'],\n",
        "      output_dict['detection_classes'],\n",
        "      output_dict['detection_scores'],\n",
        "      category_index,\n",
        "      instance_masks=output_dict.get('detection_masks_reframed', None),\n",
        "      use_normalized_coordinates=True,\n",
        "      line_thickness=4)\n",
        "\n",
        "  display(Image.fromarray(image_np))"
      ],
      "execution_count": 0,
      "outputs": []
    },
    {
      "cell_type": "markdown",
      "metadata": {
        "id": "_D3UHXph7feg",
        "colab_type": "text"
      },
      "source": [
        "### Configuring paths for labels and test images"
      ]
    },
    {
      "cell_type": "code",
      "metadata": {
        "id": "zZXeb4267d7w",
        "colab_type": "code",
        "colab": {}
      },
      "source": [
        "PATH_TO_LABELS = '/content/drive/My Drive/TFConfig/models/research/object_detection/data/mscoco_label_map.pbtxt'\n",
        "category_index = label_map_util.create_category_index_from_labelmap(PATH_TO_LABELS, use_display_name=True)\n",
        "\n",
        "# If you want to test the code with your images, just add path to the images to the TEST_IMAGE_PATHS.\n",
        "PATH_TO_TEST_IMAGES_DIR = pathlib.Path('/content/drive/My Drive/TFConfig/models/research/object_detection/test_images')\n",
        "TEST_IMAGE_PATHS = sorted(list(PATH_TO_TEST_IMAGES_DIR.glob(\"*.jpg\")))\n",
        "TEST_IMAGE_PATHS"
      ],
      "execution_count": 0,
      "outputs": []
    },
    {
      "cell_type": "markdown",
      "metadata": {
        "id": "-e6ydMup8oMi",
        "colab_type": "text"
      },
      "source": [
        "### Load the model and test the results"
      ]
    },
    {
      "cell_type": "markdown",
      "metadata": {
        "id": "fXHDJoqUCy_i",
        "colab_type": "text"
      },
      "source": [
        "**Using \"ssdlite_mobilenet_v2_coco_2018_05_09\"**"
      ]
    },
    {
      "cell_type": "code",
      "metadata": {
        "id": "f4bUW8na8tRq",
        "colab_type": "code",
        "colab": {}
      },
      "source": [
        "model_name = 'ssdlite_mobilenet_v2_coco_2018_05_09'\n",
        "detection_model = load_model(model_name)\n",
        "\n",
        "for image_path in TEST_IMAGE_PATHS:\n",
        "  show_inference(detection_model, image_path)"
      ],
      "execution_count": 0,
      "outputs": []
    },
    {
      "cell_type": "markdown",
      "metadata": {
        "id": "cox6Vn8UC5Ob",
        "colab_type": "text"
      },
      "source": [
        "**Using \"faster_rcnn_nas_coco_2018_01_28\"**"
      ]
    },
    {
      "cell_type": "code",
      "metadata": {
        "id": "c8H1Cz2z-3xZ",
        "colab_type": "code",
        "colab": {}
      },
      "source": [
        "model_name = 'faster_rcnn_nas_coco_2018_01_28'\n",
        "detection_model = load_model(model_name)\n",
        "\n",
        "for image_path in TEST_IMAGE_PATHS:\n",
        "  show_inference(detection_model, image_path)"
      ],
      "execution_count": 0,
      "outputs": []
    },
    {
      "cell_type": "markdown",
      "metadata": {
        "id": "iMZjhopzC83Q",
        "colab_type": "text"
      },
      "source": [
        "**Using \"mask_rcnn_inception_resnet_v2_atrous_coco_2018_01_28\"**"
      ]
    },
    {
      "cell_type": "code",
      "metadata": {
        "id": "QEcnBcMCAhe0",
        "colab_type": "code",
        "colab": {}
      },
      "source": [
        "model_name = 'mask_rcnn_inception_resnet_v2_atrous_coco_2018_01_28'\n",
        "detection_model = load_model(model_name)\n",
        "\n",
        "for image_path in TEST_IMAGE_PATHS:\n",
        "  show_inference(detection_model, image_path)"
      ],
      "execution_count": 0,
      "outputs": []
    }
  ]
}